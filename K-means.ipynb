{
 "cells": [
  {
   "cell_type": "markdown",
   "metadata": {},
   "source": [
    "## K-means"
   ]
  },
  {
   "cell_type": "code",
   "execution_count": 52,
   "metadata": {
    "collapsed": true
   },
   "outputs": [],
   "source": [
    "import pandas as pd\n",
    "import numpy as np \n",
    "import matplotlib.pyplot as plt \n",
    "import seaborn as sns\n",
    "%matplotlib inline \n",
    "from sklearn.model_selection import train_test_split\n",
    "from sklearn import preprocessing\n",
    "from random import random,randint,seed,sample \n",
    "from sklearn.preprocessing import StandardScaler\n",
    "import random as rn\n",
    "from sklearn.tree import DecisionTreeClassifier\n",
    "from sklearn.ensemble import AdaBoostClassifier, RandomForestClassifier\n",
    "from sklearn.cluster import KMeans\n",
    "from sklearn import tree \n",
    "from sklearn.linear_model import LogisticRegression\n",
    "from sklearn.metrics import classification_report,confusion_matrix \n",
    "from sklearn.cluster import KMeans"
   ]
  },
  {
   "cell_type": "code",
   "execution_count": 53,
   "metadata": {},
   "outputs": [
    {
     "data": {
      "text/plain": [
       "<bound method NDFrame.head of      Sex  Length  Diameter  Height   Whole  Shucked  Viscera   Shell  Rings\n",
       "0      M   0.455     0.365   0.095  0.5140   0.2245   0.1010  0.1500     15\n",
       "1      M   0.350     0.265   0.090  0.2255   0.0995   0.0485  0.0700      7\n",
       "2      F   0.530     0.420   0.135  0.6770   0.2565   0.1415  0.2100      9\n",
       "3      M   0.440     0.365   0.125  0.5160   0.2155   0.1140  0.1550     10\n",
       "4      I   0.330     0.255   0.080  0.2050   0.0895   0.0395  0.0550      7\n",
       "5      I   0.425     0.300   0.095  0.3515   0.1410   0.0775  0.1200      8\n",
       "6      F   0.530     0.415   0.150  0.7775   0.2370   0.1415  0.3300     20\n",
       "7      F   0.545     0.425   0.125  0.7680   0.2940   0.1495  0.2600     16\n",
       "8      M   0.475     0.370   0.125  0.5095   0.2165   0.1125  0.1650      9\n",
       "9      F   0.550     0.440   0.150  0.8945   0.3145   0.1510  0.3200     19\n",
       "10     F   0.525     0.380   0.140  0.6065   0.1940   0.1475  0.2100     14\n",
       "11     M   0.430     0.350   0.110  0.4060   0.1675   0.0810  0.1350     10\n",
       "12     M   0.490     0.380   0.135  0.5415   0.2175   0.0950  0.1900     11\n",
       "13     F   0.535     0.405   0.145  0.6845   0.2725   0.1710  0.2050     10\n",
       "14     F   0.470     0.355   0.100  0.4755   0.1675   0.0805  0.1850     10\n",
       "15     M   0.500     0.400   0.130  0.6645   0.2580   0.1330  0.2400     12\n",
       "16     I   0.355     0.280   0.085  0.2905   0.0950   0.0395  0.1150      7\n",
       "17     F   0.440     0.340   0.100  0.4510   0.1880   0.0870  0.1300     10\n",
       "18     M   0.365     0.295   0.080  0.2555   0.0970   0.0430  0.1000      7\n",
       "19     M   0.450     0.320   0.100  0.3810   0.1705   0.0750  0.1150      9\n",
       "20     M   0.355     0.280   0.095  0.2455   0.0955   0.0620  0.0750     11\n",
       "21     I   0.380     0.275   0.100  0.2255   0.0800   0.0490  0.0850     10\n",
       "22     F   0.565     0.440   0.155  0.9395   0.4275   0.2140  0.2700     12\n",
       "23     F   0.550     0.415   0.135  0.7635   0.3180   0.2100  0.2000      9\n",
       "24     F   0.615     0.480   0.165  1.1615   0.5130   0.3010  0.3050     10\n",
       "25     F   0.560     0.440   0.140  0.9285   0.3825   0.1880  0.3000     11\n",
       "26     F   0.580     0.450   0.185  0.9955   0.3945   0.2720  0.2850     11\n",
       "27     M   0.590     0.445   0.140  0.9310   0.3560   0.2340  0.2800     12\n",
       "28     M   0.605     0.475   0.180  0.9365   0.3940   0.2190  0.2950     15\n",
       "29     M   0.575     0.425   0.140  0.8635   0.3930   0.2270  0.2000     11\n",
       "...   ..     ...       ...     ...     ...      ...      ...     ...    ...\n",
       "4147   M   0.695     0.550   0.195  1.6645   0.7270   0.3600  0.4450     11\n",
       "4148   M   0.770     0.605   0.175  2.0505   0.8005   0.5260  0.3550     11\n",
       "4149   I   0.280     0.215   0.070  0.1240   0.0630   0.0215  0.0300      6\n",
       "4150   I   0.330     0.230   0.080  0.1400   0.0565   0.0365  0.0460      7\n",
       "4151   I   0.350     0.250   0.075  0.1695   0.0835   0.0355  0.0410      6\n",
       "4152   I   0.370     0.280   0.090  0.2180   0.0995   0.0545  0.0615      7\n",
       "4153   I   0.430     0.315   0.115  0.3840   0.1885   0.0715  0.1100      8\n",
       "4154   I   0.435     0.330   0.095  0.3930   0.2190   0.0750  0.0885      6\n",
       "4155   I   0.440     0.350   0.110  0.3805   0.1575   0.0895  0.1150      6\n",
       "4156   M   0.475     0.370   0.110  0.4895   0.2185   0.1070  0.1460      8\n",
       "4157   M   0.475     0.360   0.140  0.5135   0.2410   0.1045  0.1550      8\n",
       "4158   I   0.480     0.355   0.110  0.4495   0.2010   0.0890  0.1400      8\n",
       "4159   F   0.560     0.440   0.135  0.8025   0.3500   0.1615  0.2590      9\n",
       "4160   F   0.585     0.475   0.165  1.0530   0.4580   0.2170  0.3000     11\n",
       "4161   F   0.585     0.455   0.170  0.9945   0.4255   0.2630  0.2845     11\n",
       "4162   M   0.385     0.255   0.100  0.3175   0.1370   0.0680  0.0920      8\n",
       "4163   I   0.390     0.310   0.085  0.3440   0.1810   0.0695  0.0790      7\n",
       "4164   I   0.390     0.290   0.100  0.2845   0.1255   0.0635  0.0810      7\n",
       "4165   I   0.405     0.300   0.085  0.3035   0.1500   0.0505  0.0880      7\n",
       "4166   I   0.475     0.365   0.115  0.4990   0.2320   0.0885  0.1560     10\n",
       "4167   M   0.500     0.380   0.125  0.5770   0.2690   0.1265  0.1535      9\n",
       "4168   F   0.515     0.400   0.125  0.6150   0.2865   0.1230  0.1765      8\n",
       "4169   M   0.520     0.385   0.165  0.7910   0.3750   0.1800  0.1815     10\n",
       "4170   M   0.550     0.430   0.130  0.8395   0.3155   0.1955  0.2405     10\n",
       "4171   M   0.560     0.430   0.155  0.8675   0.4000   0.1720  0.2290      8\n",
       "4172   F   0.565     0.450   0.165  0.8870   0.3700   0.2390  0.2490     11\n",
       "4173   M   0.590     0.440   0.135  0.9660   0.4390   0.2145  0.2605     10\n",
       "4174   M   0.600     0.475   0.205  1.1760   0.5255   0.2875  0.3080      9\n",
       "4175   F   0.625     0.485   0.150  1.0945   0.5310   0.2610  0.2960     10\n",
       "4176   M   0.710     0.555   0.195  1.9485   0.9455   0.3765  0.4950     12\n",
       "\n",
       "[4177 rows x 9 columns]>"
      ]
     },
     "execution_count": 53,
     "metadata": {},
     "output_type": "execute_result"
    }
   ],
   "source": [
    "df = pd.read_csv(\"C:\\ITAM\\ML\\conchas.csv\", encoding=\"ISO-8859-1\")\n",
    "df.head\n"
   ]
  },
  {
   "cell_type": "code",
   "execution_count": 54,
   "metadata": {},
   "outputs": [
    {
     "data": {
      "text/html": [
       "<div>\n",
       "<style>\n",
       "    .dataframe thead tr:only-child th {\n",
       "        text-align: right;\n",
       "    }\n",
       "\n",
       "    .dataframe thead th {\n",
       "        text-align: left;\n",
       "    }\n",
       "\n",
       "    .dataframe tbody tr th {\n",
       "        vertical-align: top;\n",
       "    }\n",
       "</style>\n",
       "<table border=\"1\" class=\"dataframe\">\n",
       "  <thead>\n",
       "    <tr style=\"text-align: right;\">\n",
       "      <th></th>\n",
       "      <th>Length</th>\n",
       "      <th>Diameter</th>\n",
       "      <th>Height</th>\n",
       "      <th>Whole</th>\n",
       "      <th>Shucked</th>\n",
       "      <th>Viscera</th>\n",
       "      <th>Shell</th>\n",
       "      <th>Rings</th>\n",
       "    </tr>\n",
       "  </thead>\n",
       "  <tbody>\n",
       "    <tr>\n",
       "      <th>count</th>\n",
       "      <td>4177.000000</td>\n",
       "      <td>4177.000000</td>\n",
       "      <td>4177.000000</td>\n",
       "      <td>4177.000000</td>\n",
       "      <td>4177.000000</td>\n",
       "      <td>4177.000000</td>\n",
       "      <td>4177.000000</td>\n",
       "      <td>4177.000000</td>\n",
       "    </tr>\n",
       "    <tr>\n",
       "      <th>mean</th>\n",
       "      <td>0.523992</td>\n",
       "      <td>0.407881</td>\n",
       "      <td>0.139516</td>\n",
       "      <td>0.828742</td>\n",
       "      <td>0.359367</td>\n",
       "      <td>0.180594</td>\n",
       "      <td>0.238831</td>\n",
       "      <td>9.933684</td>\n",
       "    </tr>\n",
       "    <tr>\n",
       "      <th>std</th>\n",
       "      <td>0.120093</td>\n",
       "      <td>0.099240</td>\n",
       "      <td>0.041827</td>\n",
       "      <td>0.490389</td>\n",
       "      <td>0.221963</td>\n",
       "      <td>0.109614</td>\n",
       "      <td>0.139203</td>\n",
       "      <td>3.224169</td>\n",
       "    </tr>\n",
       "    <tr>\n",
       "      <th>min</th>\n",
       "      <td>0.075000</td>\n",
       "      <td>0.055000</td>\n",
       "      <td>0.000000</td>\n",
       "      <td>0.002000</td>\n",
       "      <td>0.001000</td>\n",
       "      <td>0.000500</td>\n",
       "      <td>0.001500</td>\n",
       "      <td>1.000000</td>\n",
       "    </tr>\n",
       "    <tr>\n",
       "      <th>25%</th>\n",
       "      <td>0.450000</td>\n",
       "      <td>0.350000</td>\n",
       "      <td>0.115000</td>\n",
       "      <td>0.441500</td>\n",
       "      <td>0.186000</td>\n",
       "      <td>0.093500</td>\n",
       "      <td>0.130000</td>\n",
       "      <td>8.000000</td>\n",
       "    </tr>\n",
       "    <tr>\n",
       "      <th>50%</th>\n",
       "      <td>0.545000</td>\n",
       "      <td>0.425000</td>\n",
       "      <td>0.140000</td>\n",
       "      <td>0.799500</td>\n",
       "      <td>0.336000</td>\n",
       "      <td>0.171000</td>\n",
       "      <td>0.234000</td>\n",
       "      <td>9.000000</td>\n",
       "    </tr>\n",
       "    <tr>\n",
       "      <th>75%</th>\n",
       "      <td>0.615000</td>\n",
       "      <td>0.480000</td>\n",
       "      <td>0.165000</td>\n",
       "      <td>1.153000</td>\n",
       "      <td>0.502000</td>\n",
       "      <td>0.253000</td>\n",
       "      <td>0.329000</td>\n",
       "      <td>11.000000</td>\n",
       "    </tr>\n",
       "    <tr>\n",
       "      <th>max</th>\n",
       "      <td>0.815000</td>\n",
       "      <td>0.650000</td>\n",
       "      <td>1.130000</td>\n",
       "      <td>2.825500</td>\n",
       "      <td>1.488000</td>\n",
       "      <td>0.760000</td>\n",
       "      <td>1.005000</td>\n",
       "      <td>29.000000</td>\n",
       "    </tr>\n",
       "  </tbody>\n",
       "</table>\n",
       "</div>"
      ],
      "text/plain": [
       "            Length     Diameter       Height        Whole      Shucked  \\\n",
       "count  4177.000000  4177.000000  4177.000000  4177.000000  4177.000000   \n",
       "mean      0.523992     0.407881     0.139516     0.828742     0.359367   \n",
       "std       0.120093     0.099240     0.041827     0.490389     0.221963   \n",
       "min       0.075000     0.055000     0.000000     0.002000     0.001000   \n",
       "25%       0.450000     0.350000     0.115000     0.441500     0.186000   \n",
       "50%       0.545000     0.425000     0.140000     0.799500     0.336000   \n",
       "75%       0.615000     0.480000     0.165000     1.153000     0.502000   \n",
       "max       0.815000     0.650000     1.130000     2.825500     1.488000   \n",
       "\n",
       "           Viscera        Shell        Rings  \n",
       "count  4177.000000  4177.000000  4177.000000  \n",
       "mean      0.180594     0.238831     9.933684  \n",
       "std       0.109614     0.139203     3.224169  \n",
       "min       0.000500     0.001500     1.000000  \n",
       "25%       0.093500     0.130000     8.000000  \n",
       "50%       0.171000     0.234000     9.000000  \n",
       "75%       0.253000     0.329000    11.000000  \n",
       "max       0.760000     1.005000    29.000000  "
      ]
     },
     "execution_count": 54,
     "metadata": {},
     "output_type": "execute_result"
    }
   ],
   "source": [
    "df.describe()\n"
   ]
  },
  {
   "cell_type": "code",
   "execution_count": 55,
   "metadata": {},
   "outputs": [],
   "source": [
    "# Dividimos los datos\n",
    "\n",
    "X=np.array(df.iloc[:,1:9])\n",
    "y=np.array(df.iloc[:,0])\n",
    "X_train,X_test,y_train,y_test=train_test_split(X,y,train_size=0.7,test_size=0.3,random_state=123)\n"
   ]
  },
  {
   "cell_type": "code",
   "execution_count": 56,
   "metadata": {
    "collapsed": true
   },
   "outputs": [],
   "source": [
    "# Estandarizamos los datos\n",
    "scalerx = preprocessing.StandardScaler().fit(X_train)\n",
    "X_train=scalerx.transform(X_train)\n",
    "X_test=scalerx.transform(X_test)\n",
    "\n",
    "\n",
    "y_train = np.array(y_train)\n",
    "y_test = np.array(y_test)"
   ]
  },
  {
   "cell_type": "code",
   "execution_count": 57,
   "metadata": {},
   "outputs": [
    {
     "data": {
      "text/plain": [
       "RandomForestClassifier(bootstrap=True, class_weight=None, criterion='gini',\n",
       "            max_depth=None, max_features='auto', max_leaf_nodes=None,\n",
       "            min_impurity_decrease=0.0, min_impurity_split=None,\n",
       "            min_samples_leaf=1, min_samples_split=2,\n",
       "            min_weight_fraction_leaf=0.0, n_estimators=10, n_jobs=1,\n",
       "            oob_score=False, random_state=None, verbose=0,\n",
       "            warm_start=False)"
      ]
     },
     "execution_count": 57,
     "metadata": {},
     "output_type": "execute_result"
    }
   ],
   "source": [
    "# Usamos un primer modelo de clasificación\n",
    "\n",
    "rf = RandomForestClassifier()\n",
    "rf.fit(X_train, y_train.ravel())"
   ]
  },
  {
   "cell_type": "code",
   "execution_count": 58,
   "metadata": {
    "collapsed": true
   },
   "outputs": [],
   "source": [
    "rf_predict = rf.predict(X_test)"
   ]
  },
  {
   "cell_type": "code",
   "execution_count": 61,
   "metadata": {},
   "outputs": [
    {
     "data": {
      "text/plain": [
       "<matplotlib.axes._subplots.AxesSubplot at 0xec0ff28>"
      ]
     },
     "execution_count": 61,
     "metadata": {},
     "output_type": "execute_result"
    },
    {
     "data": {
      "image/png": "[encoded data removed]",
      "text/plain": [
       "<matplotlib.figure.Figure at 0xdbbe8d0>"
      ]
     },
     "metadata": {},
     "output_type": "display_data"
    }
   ],
   "source": [
    "\n",
    "mc_rf = confusion_matrix(y_test, rf_predict)\n",
    "sns.heatmap(mc_rf,square = True, annot = True, cbar = False, fmt='g')"
   ]
  },
  {
   "cell_type": "code",
   "execution_count": 65,
   "metadata": {},
   "outputs": [
    {
     "data": {
      "text/plain": [
       "0.54625199362041466"
      ]
     },
     "execution_count": 65,
     "metadata": {},
     "output_type": "execute_result"
    }
   ],
   "source": [
    "from sklearn.metrics import accuracy_score\n",
    "accuracy_score(y_test, rf_predict)"
   ]
  },
  {
   "cell_type": "code",
   "execution_count": 32,
   "metadata": {
    "collapsed": true
   },
   "outputs": [],
   "source": [
    "# Algoritmo k-means con 3 clusters\n",
    "\n",
    "kmeans = KMeans(n_clusters=3, random_state=123).fit(X)\n"
   ]
  },
  {
   "cell_type": "code",
   "execution_count": 35,
   "metadata": {},
   "outputs": [],
   "source": [
    "df[\"cluster\"] = kmeans.predict(X)"
   ]
  },
  {
   "cell_type": "code",
   "execution_count": 38,
   "metadata": {
    "collapsed": true
   },
   "outputs": [],
   "source": [
    "\n",
    "ab_0 = df[df[\"cluster\"]==0]\n",
    "ab_1 = df[df[\"cluster\"]==1]\n",
    "ab_2 = df[df[\"cluster\"]==2]"
   ]
  },
  {
   "cell_type": "code",
   "execution_count": 45,
   "metadata": {},
   "outputs": [],
   "source": [
    "# Dividimos los datos\n",
    "X_0 = ab_0.iloc[:,1:9]\n",
    "y_0 = ab_0.iloc[:,0:1]\n",
    "X_1 = ab_1.iloc[:,1:9]\n",
    "y_1 = ab_1.iloc[:,0:1]\n",
    "X_2 = ab_2.iloc[:,1:9]\n",
    "y_2 = ab_2.iloc[:,0:1]\n",
    "\n",
    "X_0_train, X_0_test, y_0_train, y_0_test = train_test_split(X_0, y_0, train_size=0.7,test_size=0.3)\n",
    "X_1_train, X_1_test, y_1_train, y_1_test = train_test_split(X_1, y_1, train_size=0.7,test_size=0.3)\n",
    "X_2_train, X_2_test, y_2_train, y_2_test = train_test_split(X_2, y_2, train_size=0.7,test_size=0.3)\n",
    "\n",
    "# Estandarizamos\n",
    "scaler_0 = StandardScaler()\n",
    "scaler_1 = StandardScaler()\n",
    "scaler_2 = StandardScaler()\n",
    "\n",
    "X_0_train = scaler_0.fit_transform(X_0_train)\n",
    "X_0_test = scaler_0.transform(X_0_test)\n",
    "y_0_train = np.array(y_0_train)\n",
    "y_0_test = np.array(y_0_test)\n",
    "\n",
    "X_1_train = scaler_1.fit_transform(X_1_train)\n",
    "X_1_test = scaler_1.transform(X_1_test)\n",
    "y_1_train = np.array(y_1_train)\n",
    "y_1_test = np.array(y_1_test)\n",
    "\n",
    "X_2_train = scaler_2.fit_transform(X_2_train)\n",
    "X_2_test = scaler_2.transform(X_2_test)\n",
    "y_2_train = np.array(y_2_train)\n",
    "y_2_test = np.array(y_2_test)"
   ]
  },
  {
   "cell_type": "code",
   "execution_count": 47,
   "metadata": {},
   "outputs": [
    {
     "data": {
      "text/plain": [
       "RandomForestClassifier(bootstrap=True, class_weight=None, criterion='gini',\n",
       "            max_depth=None, max_features='auto', max_leaf_nodes=None,\n",
       "            min_impurity_decrease=0.0, min_impurity_split=None,\n",
       "            min_samples_leaf=1, min_samples_split=2,\n",
       "            min_weight_fraction_leaf=0.0, n_estimators=10, n_jobs=1,\n",
       "            oob_score=False, random_state=None, verbose=0,\n",
       "            warm_start=False)"
      ]
     },
     "execution_count": 47,
     "metadata": {},
     "output_type": "execute_result"
    }
   ],
   "source": [
    "# Generamos un Random forest para cada cluster\n",
    "\n",
    "rf_0 = RandomForestClassifier()\n",
    "rf_1 = RandomForestClassifier()\n",
    "rf_2 = RandomForestClassifier()\n",
    "\n",
    "rf_0.fit(X_0_train, y_0_train.ravel())\n",
    "rf_1.fit(X_1_train, y_1_train.ravel())\n",
    "rf_2.fit(X_2_train, y_2_train.ravel())"
   ]
  },
  {
   "cell_type": "code",
   "execution_count": 48,
   "metadata": {},
   "outputs": [],
   "source": [
    "rf_0_pred = rf_0.predict(X_0_test)\n",
    "rf_1_pred = rf_1.predict(X_1_test)\n",
    "rf_2_pred = rf_2.predict(X_2_test)"
   ]
  },
  {
   "cell_type": "code",
   "execution_count": 62,
   "metadata": {},
   "outputs": [
    {
     "data": {
      "text/plain": [
       "<matplotlib.axes._subplots.AxesSubplot at 0xecb29e8>"
      ]
     },
     "execution_count": 62,
     "metadata": {},
     "output_type": "execute_result"
    },
    {
     "data": {
      "image/png": "[encoded data removed]",
      "text/plain": [
       "<matplotlib.figure.Figure at 0xebc9320>"
      ]
     },
     "metadata": {},
     "output_type": "display_data"
    }
   ],
   "source": [
    "test_complete = np.concatenate((y_0_test, y_1_test, y_2_test), axis=0)\n",
    "pred_complete = np.concatenate((rf_0_pred, rf_1_pred, rf_2_pred), axis=0)\n",
    "mc_rf2 = confusion_matrix(test_complete, pred_complete)\n",
    "sns.heatmap(mc_rf2,square = True, annot = True, cbar = False, fmt='g')\n"
   ]
  },
  {
   "cell_type": "code",
   "execution_count": 64,
   "metadata": {},
   "outputs": [
    {
     "data": {
      "text/plain": [
       "0.53748006379585322"
      ]
     },
     "execution_count": 64,
     "metadata": {},
     "output_type": "execute_result"
    }
   ],
   "source": [
    "from sklearn.metrics import accuracy_score\n",
    "accuracy_score(test_complete, pred_complete)"
   ]
  },
  {
   "cell_type": "markdown",
   "metadata": {},
   "source": [
    "No se observa una mejoría en los resultados como se esperaba, al aplicar Random Forest a cada uno de los clusters"
   ]
  }
 ],
 "metadata": {
  "kernelspec": {
   "display_name": "Python 3",
   "language": "python",
   "name": "python3"
  },
  "language_info": {
   "codemirror_mode": {
    "name": "ipython",
    "version": 3
   },
   "file_extension": ".py",
   "mimetype": "text/x-python",
   "name": "python",
   "nbconvert_exporter": "python",
   "pygments_lexer": "ipython3",
   "version": "3.6.3"
  }
 },
 "nbformat": 4,
 "nbformat_minor": 2
}
